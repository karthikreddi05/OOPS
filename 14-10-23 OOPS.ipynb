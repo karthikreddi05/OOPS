{
 "cells": [
  {
   "cell_type": "code",
   "execution_count": 2,
   "id": "4f3d82ba-d8e8-4b9a-8abf-69f1e7a23418",
   "metadata": {},
   "outputs": [
    {
     "name": "stdout",
     "output_type": "stream",
     "text": [
      "pwskills\n"
     ]
    }
   ],
   "source": [
    "#1What is a constructor in Python? Explain its purpose and usage.\n",
    "\n",
    "class PWskills:\n",
    "\tdef __init__(self):\n",
    "\t\tself.skills = \"pwskills\"\n",
    "\tdef print_skills(self):\n",
    "\t\tprint(self.skills)\n",
    "obj = PWskills()\n",
    "obj.print_skills()"
   ]
  },
  {
   "cell_type": "code",
   "execution_count": 3,
   "id": "a3ce0933-ba5d-4de3-9478-3b9d4c579a62",
   "metadata": {},
   "outputs": [
    {
     "name": "stdout",
     "output_type": "stream",
     "text": [
      "John\n",
      "30\n"
     ]
    }
   ],
   "source": [
    "#2Differentiate between a parameterless constructor and a parameterized constructor in Python.\n",
    "\n",
    "\n",
    "class Person:\n",
    "    def __init__(self, name, age):\n",
    "        self.name = name\n",
    "        self.age = age\n",
    "\n",
    "person = Person(\"John\", 30)\n",
    "print(person.name)\n",
    "print(person.age)"
   ]
  },
  {
   "cell_type": "code",
   "execution_count": 5,
   "id": "005b8444-b4bd-404b-bc5b-af9d6f6791ca",
   "metadata": {},
   "outputs": [
    {
     "name": "stdout",
     "output_type": "stream",
     "text": [
      "Default constructor called\n",
      "Method called without a name\n",
      "Parameterized constructor called with name John\n",
      "Method called with name John\n"
     ]
    }
   ],
   "source": [
    "#3How do you define a constructor in a Python class? Provide an example.\n",
    "\n",
    "class MyClass:\n",
    "\tdef __init__(self, name=None):\n",
    "\t\tif name is None:\n",
    "\t\t\tprint(\"Default constructor called\")\n",
    "\t\telse:\n",
    "\t\t\tself.name = name\n",
    "\t\t\tprint(\"Parameterized constructor called with name\", self.name)\n",
    "\t\n",
    "\tdef method(self):\n",
    "\t\tif hasattr(self, 'name'):\n",
    "\t\t\tprint(\"Method called with name\", self.name)\n",
    "\t\telse:\n",
    "\t\t\tprint(\"Method called without a name\")\n",
    "obj1 = MyClass()\n",
    "obj1.method()\n",
    "obj2 = MyClass(\"John\")\n",
    "obj2.method()"
   ]
  },
  {
   "cell_type": "code",
   "execution_count": 7,
   "id": "f7346831-7c3e-4658-b2cf-50d66033ee75",
   "metadata": {},
   "outputs": [
    {
     "name": "stdout",
     "output_type": "stream",
     "text": [
      "Hello, my name is Karthik\n"
     ]
    }
   ],
   "source": [
    "#4Explain the `__init__` method in Python and its role in constructors.\n",
    "\n",
    "class Person:\n",
    "\tdef __init__(self, name):\n",
    "\t\tself.name = name\n",
    "\tdef say_hi(self):\n",
    "\t\tprint('Hello, my name is', self.name)\n",
    "\n",
    "\n",
    "p = Person('Karthik')\n",
    "p.say_hi()"
   ]
  },
  {
   "cell_type": "code",
   "execution_count": 9,
   "id": "943783f7-449b-486b-8dbc-d703033f1048",
   "metadata": {},
   "outputs": [
    {
     "name": "stdout",
     "output_type": "stream",
     "text": [
      "Karthik\n",
      "20\n"
     ]
    }
   ],
   "source": [
    "#5n a class named `Person`, create a constructor that initializes the `name` and `age` attributes. Provide an example of creating an object of this class.\n",
    "\n",
    "class Person:\n",
    "  def __init__(self, name, age):\n",
    "    self.name = name\n",
    "    self.age = age\n",
    "\n",
    "p1 = Person(\"Karthik\", 20)\n",
    "\n",
    "print(p1.name)\n",
    "print(p1.age)"
   ]
  },
  {
   "cell_type": "code",
   "execution_count": 10,
   "id": "dc354a2a-a8ab-458e-9b81-d364ebc9387c",
   "metadata": {},
   "outputs": [
    {
     "name": "stdout",
     "output_type": "stream",
     "text": [
      "10\n",
      "20\n"
     ]
    }
   ],
   "source": [
    "#6How can you call a constructor explicitly in Python? Give an example.\n",
    "\n",
    "class Point: \n",
    "    def __init__(self, x, y): \n",
    "        self.x = x \n",
    "        self.y = y \n",
    " \n",
    "point = Point(10, 20) \n",
    "print(point.x)\n",
    "print(point.y) "
   ]
  },
  {
   "cell_type": "code",
   "execution_count": 11,
   "id": "a6f26ee1-f153-4268-874c-28f287abe2b3",
   "metadata": {},
   "outputs": [
    {
     "name": "stdout",
     "output_type": "stream",
     "text": [
      "17\n"
     ]
    }
   ],
   "source": [
    "#7What is the significance of the `self` parameter in Python constructors? Explain with an example.\n",
    "\n",
    "class mynumber:\n",
    "\tdef __init__(self, value):\n",
    "\t\tself.value = value\n",
    "\t\n",
    "\tdef print_value(self):\n",
    "\t\tprint(self.value)\n",
    "\n",
    "obj1 = mynumber(17)\n",
    "obj1.print_value()"
   ]
  },
  {
   "cell_type": "code",
   "execution_count": 17,
   "id": "b65883d8-d1d6-4753-82e6-0985ce8ee40c",
   "metadata": {},
   "outputs": [
    {
     "name": "stdout",
     "output_type": "stream",
     "text": [
      "100\n"
     ]
    }
   ],
   "source": [
    "#8Discuss the concept of default constructors in Python. When are they used?\n",
    "\n",
    "\n",
    "class DemoClass:\n",
    "    def __init__(self):\n",
    "        self.num=100\n",
    "    def read_number(self):\n",
    "        print(self.num)\n",
    "obj = DemoClass()\n",
    "obj.read_number()"
   ]
  },
  {
   "cell_type": "code",
   "execution_count": 18,
   "id": "b78daa63-d577-41d5-93c1-26ee9a81e706",
   "metadata": {},
   "outputs": [
    {
     "name": "stdout",
     "output_type": "stream",
     "text": [
      "120\n"
     ]
    }
   ],
   "source": [
    "#9Create a Python class called `Rectangle` with a constructor that initializes the `width` and `height` attributes. Provide a method to calculate the area of the rectangle.\n",
    "\n",
    "class Rectangle():\n",
    "    def __init__(self, l, w):\n",
    "        self.length = l\n",
    "        self.width  = w\n",
    "\n",
    "    def rectangle_area(self):\n",
    "        return self.length*self.width\n",
    "\n",
    "newRectangle = Rectangle(12, 10)\n",
    "print(newRectangle.rectangle_area())"
   ]
  },
  {
   "cell_type": "code",
   "execution_count": 23,
   "id": "14b3f9df-4f27-47bd-93bc-2e95bcad7c63",
   "metadata": {},
   "outputs": [
    {
     "name": "stdout",
     "output_type": "stream",
     "text": [
      "Name = KARTHIK, Age = 20\n"
     ]
    }
   ],
   "source": [
    "#10How can you have multiple constructors in a Python class? Explain with an example.\n",
    "\n",
    "class Student:\n",
    "    def __init__(self, name, age):\n",
    "        self.name = name\n",
    "        self.age = age\n",
    "    def __str__(self):\n",
    "        return \"Name = {}, Age = {}\".format(self.name, self.age)\n",
    "if __name__ == '__main__':\n",
    "    studentObj = Student(\"KARTHIK\", 20)\n",
    "    print(studentObj)"
   ]
  },
  {
   "cell_type": "code",
   "execution_count": 2,
   "id": "125b12c2-47ed-4c77-899b-4aade736c06a",
   "metadata": {},
   "outputs": [
    {
     "name": "stdout",
     "output_type": "stream",
     "text": [
      "100\n"
     ]
    }
   ],
   "source": [
    "#11What is method overloading, and how is it related to constructors in Python?\n",
    "\n",
    "def product(a, b):\n",
    "    p = a * b\n",
    "    print(p)\n",
    "def product(a, b, c):\n",
    "    p = a * b*c\n",
    "    print(p)\n",
    "product(4, 5, 5)"
   ]
  },
  {
   "cell_type": "code",
   "execution_count": 3,
   "id": "7a3040c4-5a2d-44aa-9776-ac1d1cfb4c0e",
   "metadata": {},
   "outputs": [
    {
     "name": "stdout",
     "output_type": "stream",
     "text": [
      "The ID is: 103\n",
      "The Name is: Suraj kr gupta\n",
      "The Address is: Noida\n",
      "The Emails is: KKK@gmails\n"
     ]
    }
   ],
   "source": [
    "#12Explain the use of the `super()` function in Python constructors. Provide an example.\n",
    "\n",
    "\n",
    "class Emp():\n",
    "    def __init__(self, id, name, Add):\n",
    "        self.id = id\n",
    "        self.name = name\n",
    "        self.Add = Add\n",
    "class Freelance(Emp):\n",
    "    def __init__(self, id, name, Add, Emails):\n",
    "        super().__init__(id, name, Add)\n",
    "        self.Emails = Emails\n",
    "Emp_1 = Freelance(103, \"Suraj kr gupta\", \"Noida\" , \"KKK@gmails\")\n",
    "print('The ID is:', Emp_1.id)\n",
    "print('The Name is:', Emp_1.name)\n",
    "print('The Address is:', Emp_1.Add)\n",
    "print('The Emails is:', Emp_1.Emails)"
   ]
  },
  {
   "cell_type": "code",
   "execution_count": 5,
   "id": "f2c5d756-1033-45bf-b5a2-abf404abeebc",
   "metadata": {},
   "outputs": [
    {
     "name": "stdout",
     "output_type": "stream",
     "text": [
      "17\n"
     ]
    }
   ],
   "source": [
    "#13Explain the role of the `self` parameter in instance variable initialization within a constructor.\n",
    "\n",
    "\n",
    "class mynumber:\n",
    "    def __init__(self, value):\n",
    "        self.value = value\n",
    "     \n",
    "    def print_value(self):\n",
    "        print(self.value)\n",
    " \n",
    "obj1 = mynumber(17)\n",
    "obj1.print_value()"
   ]
  },
  {
   "cell_type": "code",
   "execution_count": 6,
   "id": "ba8bf468-0f06-42d9-8b84-fc3ee93703e6",
   "metadata": {},
   "outputs": [
    {
     "name": "stdout",
     "output_type": "stream",
     "text": [
      "Inside Constructor\n",
      "All variables initialized\n",
      "Hello, my name is Emma\n"
     ]
    }
   ],
   "source": [
    "#14Explain the use of constructor chaining in Python. Provide a practical example.\n",
    "\n",
    "class Student:\n",
    "    def __init__(self, name):\n",
    "        print('Inside Constructor')\n",
    "        self.name = name\n",
    "        print('All variables initialized')\n",
    "    def show(self):\n",
    "        print('Hello, my name is', self.name)\n",
    "s1 = Student('Emma')\n",
    "s1.show()"
   ]
  },
  {
   "cell_type": "code",
   "execution_count": 7,
   "id": "6fdfd3fe-605a-4141-b56c-a461fd4c25c0",
   "metadata": {},
   "outputs": [
    {
     "name": "stdout",
     "output_type": "stream",
     "text": [
      "Sedan\n",
      "Black\n",
      "SUV\n"
     ]
    }
   ],
   "source": [
    "#15. Create a Python class called `Car` with a default constructor that initializes the `make` and `model` attributes. Provide a method to display car information.\n",
    "\n",
    "class Car:\n",
    "    wheels = 4\n",
    "    def __init__(self, color, style):\n",
    "        self.color = color\n",
    "        self.style = style\n",
    "c = Car('Black', 'Sedan')\n",
    "print(c.style)\n",
    "print(c.color)\n",
    "c.style = 'SUV'\n",
    "print(c.style)"
   ]
  },
  {
   "cell_type": "code",
   "execution_count": 1,
   "id": "c3622082-94e7-4924-b736-bce694a0a3b9",
   "metadata": {},
   "outputs": [
    {
     "name": "stdout",
     "output_type": "stream",
     "text": [
      "This function is in parent class.\n",
      "This function is in child class.\n"
     ]
    }
   ],
   "source": [
    "#16Differentiate between single inheritance and multiple inheritance in Python. Provide examples for each.\n",
    "\n",
    "class Parent:\n",
    "    def func1(self):\n",
    "        print(\"This function is in parent class.\") \n",
    "class Child(Parent):\n",
    "    def func2(self):\n",
    "        print(\"This function is in child class.\")\n",
    "object = Child()\n",
    "object.func1()\n",
    "object.func2()"
   ]
  },
  {
   "cell_type": "code",
   "execution_count": 3,
   "id": "fd06aee3-71ea-4a52-ac8d-f973b11256a9",
   "metadata": {},
   "outputs": [
    {
     "name": "stdout",
     "output_type": "stream",
     "text": [
      "Inside Parent\n",
      "Inside Child\n"
     ]
    }
   ],
   "source": [
    "#17Explain the concept of method overriding in inheritance. Provide a practical example.\n",
    "\n",
    "\n",
    "class Parent(): \n",
    "    def __init__(self): \n",
    "        self.value = \"Inside Parent\"\n",
    "    def show(self): \n",
    "        print(self.value) \n",
    "class Child(Parent): \n",
    "    def __init__(self): \n",
    "        self.value = \"Inside Child\"\n",
    "    def show(self): \n",
    "        print(self.value)  \n",
    "obj1 = Parent() \n",
    "obj2 = Child() \n",
    "obj1.show() \n",
    "obj2.show() "
   ]
  },
  {
   "cell_type": "code",
   "execution_count": 4,
   "id": "5d4deb1d-40c4-498d-a56a-72fc11c4596e",
   "metadata": {},
   "outputs": [
    {
     "name": "stdout",
     "output_type": "stream",
     "text": [
      "COE\n",
      "COE\n",
      "SHIVAM\n",
      "SACHIN\n",
      "3425\n",
      "3624\n",
      "COE\n"
     ]
    }
   ],
   "source": [
    "#18How can you access the methods and attributes of a parent class from a child class in Python? Give an example.\n",
    "\n",
    "class Student: \n",
    "    stream = 'COE' \n",
    "    def __init__(self, name, roll_no): \n",
    "        self.name = name  \n",
    "        self.roll_no = roll_no   \n",
    "a = Student('SHIVAM', 3425)  \n",
    "b = Student('SACHIN', 3624)  \n",
    "print(a.stream) \n",
    "print(b.stream) \n",
    "print(a.name) \n",
    "print(b.name) \n",
    "print(a.roll_no)  \n",
    "print(b.roll_no)  \n",
    "print(Student.stream) "
   ]
  },
  {
   "cell_type": "code",
   "execution_count": 5,
   "id": "eee2becb-14c0-49ba-89df-0c3cedc11a1c",
   "metadata": {},
   "outputs": [
    {
     "name": "stdout",
     "output_type": "stream",
     "text": [
      "Hello, and welcome!\n"
     ]
    }
   ],
   "source": [
    "#19Discuss the use of the `super()` function in Python inheritance. When and why is it used? Provide an example.\n",
    "\n",
    "class Parent:\n",
    "  def __init__(self, txt):\n",
    "    self.message = txt\n",
    "\n",
    "  def printmessage(self):\n",
    "    print(self.message)\n",
    "\n",
    "class Child(Parent):\n",
    "  def __init__(self, txt):\n",
    "    super().__init__(txt)\n",
    "\n",
    "x = Child(\"Hello, and welcome!\")\n",
    "\n",
    "x.printmessage()"
   ]
  },
  {
   "cell_type": "code",
   "execution_count": 7,
   "id": "2ccc85ea-c9c2-4835-b37f-a38618565aab",
   "metadata": {},
   "outputs": [
    {
     "name": "stdout",
     "output_type": "stream",
     "text": [
      "Is test_int integer? : True\n",
      "Is test_int string? : False\n",
      "Is test_list integer? : False\n",
      "Is test_list list? : True\n",
      "Is test_int integer or list or string? : True\n"
     ]
    }
   ],
   "source": [
    "#20Explain the role of the `isinstance()` function in Python and how it relates to inheritance.\n",
    "\n",
    "test_int = 5\n",
    "test_list = [1, 2, 3]\n",
    "print(\"Is test_int integer? : \" + str(isinstance(test_int, int)))\n",
    "print(\"Is test_int string? : \" + str(isinstance(test_int, str)))\n",
    "print(\"Is test_list integer? : \" + str(isinstance(test_list, int)))\n",
    "print(\"Is test_list list? : \" + str(isinstance(test_list, list)))\n",
    "print(\"Is test_int integer or list or string? : \"\n",
    "      + str(isinstance(test_int, (int, list, str))))"
   ]
  },
  {
   "cell_type": "code",
   "execution_count": 8,
   "id": "db6d14f1-8baf-4d46-a963-29b0793239e1",
   "metadata": {},
   "outputs": [
    {
     "name": "stdout",
     "output_type": "stream",
     "text": [
      "True\n",
      "False\n",
      "True\n",
      "True\n"
     ]
    }
   ],
   "source": [
    "#21What is the purpose of the `issubclass()` function in Python? Provide an example.\n",
    "\n",
    "class Vehicles:\n",
    "    def __init__(vehicleType):\n",
    "        print('Vehicles is a ', vehicleType)\n",
    "class Car(Vehicles):\n",
    "    def __init__(self):\n",
    "        Vehicles.__init__('Car')\n",
    "print(issubclass(Car, Vehicles))\n",
    "print(issubclass(Car, list))\n",
    "print(issubclass(Car, Car))\n",
    "print(issubclass(Car, (list, Vehicles)))"
   ]
  },
  {
   "cell_type": "code",
   "execution_count": 12,
   "id": "c94d6b46-a060-463a-a751-4576a513dff8",
   "metadata": {},
   "outputs": [
    {
     "name": "stdout",
     "output_type": "stream",
     "text": [
      "<class 'dict'>\n"
     ]
    }
   ],
   "source": [
    "#22Explain the use of abstract base classes (ABCs) in Python and how they relate to inheritance. Provide an example using the `abc` module.\n",
    "\n",
    "import abc \n",
    "  \n",
    "  \n",
    "class AbstractClass(metaclass=abc.ABCMeta): \n",
    "    def abstractfunc(self): \n",
    "        return None\n",
    "  \n",
    "  \n",
    "print(AbstractClass.register(dict)) "
   ]
  },
  {
   "cell_type": "code",
   "execution_count": 15,
   "id": "e085a8c7-747b-484b-adbe-0d3d27386b4f",
   "metadata": {},
   "outputs": [
    {
     "name": "stdout",
     "output_type": "stream",
     "text": [
      "Karthik Reddy\n"
     ]
    }
   ],
   "source": [
    "#23How can you prevent a child class from modifying certain attributes or methods inherited from a parent class in Python?\n",
    "\n",
    "class Person:\n",
    "  def __init__(self, fname, lname):\n",
    "    self.firstname = fname\n",
    "    self.lastname = lname\n",
    "\n",
    "  def printname(self):\n",
    "    print(self.firstname, self.lastname)\n",
    "\n",
    "#Use the Person class to create an object, and then execute the printname method:\n",
    "\n",
    "x = Person(\"Karthik\",\"Reddy\")\n",
    "x.printname()"
   ]
  },
  {
   "cell_type": "code",
   "execution_count": 16,
   "id": "79054a77-c100-4524-8d58-80a383a1afe0",
   "metadata": {},
   "outputs": [
    {
     "name": "stdout",
     "output_type": "stream",
     "text": [
      "Hello, my name is KARTHIK\n"
     ]
    }
   ],
   "source": [
    "#24Explain the purpose of the `__init__()` method in Python inheritance and how it is utilized in child classes.\n",
    "\n",
    "class Person:\n",
    " \n",
    "    # init method or constructor\n",
    "    def __init__(self, name):\n",
    "        self.name = name\n",
    " \n",
    "    # Sample Method\n",
    "    def say_hi(self):\n",
    "        print('Hello, my name is', self.name)\n",
    " \n",
    " \n",
    "p = Person('KARTHIK')\n",
    "p.say_hi()"
   ]
  },
  {
   "cell_type": "code",
   "execution_count": 22,
   "id": "bb18e841-13f1-49dd-973b-b91b23c68875",
   "metadata": {},
   "outputs": [
    {
     "name": "stdout",
     "output_type": "stream",
     "text": [
      "Calling protected member of base class:  2\n",
      "Calling modified protected member outside class:  3\n",
      "Accessing protected member of obj1:  3\n",
      "Accessing protected member of obj2:  2\n"
     ]
    }
   ],
   "source": [
    "#25Explain the concept of encapsulation in Python. What is its role in object-oriented programming?\n",
    "\n",
    "class Base: \n",
    "    def __init__(self):  \n",
    "        self._a = 2 \n",
    "class Derived(Base): \n",
    "    def __init__(self): \n",
    "        Base.__init__(self) \n",
    "        print(\"Calling protected member of base class: \",  \n",
    "              self._a)  \n",
    "        self._a = 3\n",
    "        print(\"Calling modified protected member outside class: \", \n",
    "              self._a) \n",
    "obj1 = Derived() \n",
    "obj2 = Base() \n",
    "print(\"Accessing protected member of obj1: \", obj1._a) \n",
    "print(\"Accessing protected member of obj2: \", obj2._a) "
   ]
  },
  {
   "cell_type": "code",
   "execution_count": 25,
   "id": "57e0d1c3-ee2c-47a7-bd13-7d089a4af376",
   "metadata": {},
   "outputs": [
    {
     "name": "stdout",
     "output_type": "stream",
     "text": [
      "Pwskills\n"
     ]
    }
   ],
   "source": [
    "#26Describe the key principles of encapsulation, including access control and data hiding.\n",
    "\n",
    "class Base: \n",
    "    def __init__(self): \n",
    "        self.a = \"Pwskills\"\n",
    "        self.__c = \"Pwskills\"\n",
    "  \n",
    "# Creating a derived class \n",
    "class Derived(Base): \n",
    "    def __init__(self): \n",
    "  \n",
    "        # Calling constructor of \n",
    "        # Base class \n",
    "        Base.__init__(self) \n",
    "        print(\"Calling private member of base class: \") \n",
    "        print(self.__c) \n",
    "  \n",
    "  \n",
    "# Driver code \n",
    "obj1 = Base() \n",
    "print(obj1.a) "
   ]
  },
  {
   "cell_type": "code",
   "execution_count": 1,
   "id": "fc13c8f3-380c-43f6-8e21-35df5bd2bd91",
   "metadata": {},
   "outputs": [
    {
     "name": "stdout",
     "output_type": "stream",
     "text": [
      "Calling protected member of base class:  2\n",
      "Calling modified protected member outside class:  3\n",
      "Accessing protected member of obj1:  3\n",
      "Accessing protected member of obj2:  2\n"
     ]
    }
   ],
   "source": [
    "#27How can you achieve encapsulation in Python classes? Provide an example.\n",
    "\n",
    "class Base: \n",
    "    def __init__(self): \n",
    "        self._a = 2\n",
    "class Derived(Base): \n",
    "    def __init__(self): \n",
    "        Base.__init__(self) \n",
    "        print(\"Calling protected member of base class: \",  \n",
    "              self._a) \n",
    "        self._a = 3\n",
    "        print(\"Calling modified protected member outside class: \", \n",
    "              self._a) \n",
    "obj1 = Derived() \n",
    "obj2 = Base() \n",
    "print(\"Accessing protected member of obj1: \", obj1._a) \n",
    "print(\"Accessing protected member of obj2: \", obj2._a) "
   ]
  },
  {
   "cell_type": "code",
   "execution_count": 3,
   "id": "e6616b1a-961a-4b50-b493-ee1047f127f2",
   "metadata": {},
   "outputs": [
    {
     "name": "stdout",
     "output_type": "stream",
     "text": [
      "Name: Karthik\n",
      "Age: 20\n"
     ]
    }
   ],
   "source": [
    "#28Discuss the difference between public, private, and protected access modifiers in Python.\n",
    "\n",
    "class Student:\n",
    "   def __init__(self, name, age):\n",
    "      self.name = name\n",
    "      self.age = age\n",
    "    \n",
    "   def display(self):\n",
    "      print(\"Name:\", self.name)\n",
    "      print(\"Age:\", self.age)\n",
    "\n",
    "s = Student(\"Karthik\", 20)\n",
    "s.display() "
   ]
  },
  {
   "cell_type": "code",
   "execution_count": 5,
   "id": "9b847e7d-2578-4e69-a5cd-162d00bf64cf",
   "metadata": {},
   "outputs": [
    {
     "name": "stdout",
     "output_type": "stream",
     "text": [
      "Public method\n",
      "\n",
      "Inside derived class\n",
      "Public method\n"
     ]
    }
   ],
   "source": [
    "#29Create a Python class called `Person` with a private attribute `__name`. Provide methods to get and set the name attribute.\n",
    "\n",
    "class Base:\n",
    "    def fun(self):\n",
    "        print(\"Public method\")\n",
    "    def __fun(self):\n",
    "        print(\"Private method\")\n",
    "class Derived(Base):\n",
    "    def __init__(self):\n",
    "        Base.__init__(self)\n",
    "    def call_public(self):\n",
    "        print(\"\\nInside derived class\")\n",
    "        self.fun()\n",
    "    def call_private(self):\n",
    "        self.__fun()\n",
    "obj1 = Base()\n",
    "obj1.fun() \n",
    "obj2 = Derived()\n",
    "obj2.call_public()"
   ]
  },
  {
   "cell_type": "code",
   "execution_count": 7,
   "id": "53052a49-7a01-418d-884d-bc18019668e3",
   "metadata": {},
   "outputs": [
    {
     "name": "stdout",
     "output_type": "stream",
     "text": [
      "21\n",
      "21\n"
     ]
    }
   ],
   "source": [
    "#30Explain the purpose of getter and setter methods in encapsulation. Provide examples.\n",
    "\n",
    "class class1: \n",
    "    def __init__(self, age = 0): \n",
    "         self._age = age \n",
    "    def get_age(self): \n",
    "        return self._age \n",
    "    def set_age(self, x): \n",
    "        self._age = x \n",
    "class2 = class1() \n",
    "class2.set_age(21) \n",
    "print(class2.get_age())\n",
    "print(class2._age) "
   ]
  },
  {
   "cell_type": "code",
   "execution_count": 12,
   "id": "8727f6ca-025e-403b-a64b-cce187b10dea",
   "metadata": {},
   "outputs": [
    {
     "name": "stdout",
     "output_type": "stream",
     "text": [
      "Karthik\n"
     ]
    }
   ],
   "source": [
    "#31What is name mangling in Python, and how does it affect encapsulation?\n",
    "\n",
    "class Student: \n",
    "    def __init__(self, name): \n",
    "        self.__name = name \n",
    "  \n",
    "    def displayName(self): \n",
    "        print(self.__name) \n",
    "  \n",
    "s1 = Student(\"Karthik\") \n",
    "s1.displayName() "
   ]
  },
  {
   "cell_type": "code",
   "execution_count": 13,
   "id": "19cf824d-de69-4649-974e-c49d248c2a1f",
   "metadata": {},
   "outputs": [
    {
     "name": "stdout",
     "output_type": "stream",
     "text": [
      "Hello!!! Welcome to the Deposit & Withdrawal Machine\n"
     ]
    },
    {
     "name": "stdin",
     "output_type": "stream",
     "text": [
      "Enter amount to be Deposited:  10000\n"
     ]
    },
    {
     "name": "stdout",
     "output_type": "stream",
     "text": [
      "\n",
      " Amount Deposited: 10000.0\n"
     ]
    },
    {
     "name": "stdin",
     "output_type": "stream",
     "text": [
      "Enter amount to be Withdrawn:  500\n"
     ]
    },
    {
     "name": "stdout",
     "output_type": "stream",
     "text": [
      "\n",
      " You Withdrew: 500.0\n",
      "\n",
      " Net Available Balance= 9500.0\n"
     ]
    }
   ],
   "source": [
    "#32Create a Python class called `BankAccount` with private attributes for the account balance (`__balance`) and account number (`__account_number`). Provide methods for depositing and withdrawing money.\n",
    "\n",
    "class Bank_Account:\n",
    "    def __init__(self):\n",
    "        self.balance=0\n",
    "        print(\"Hello!!! Welcome to the Deposit & Withdrawal Machine\")\n",
    "    def deposit(self):\n",
    "        amount=float(input(\"Enter amount to be Deposited: \"))\n",
    "        self.balance += amount\n",
    "        print(\"\\n Amount Deposited:\",amount)\n",
    "    def withdraw(self):\n",
    "        amount = float(input(\"Enter amount to be Withdrawn: \"))\n",
    "        if self.balance>=amount:\n",
    "            self.balance-=amount\n",
    "            print(\"\\n You Withdrew:\", amount)\n",
    "        else:\n",
    "            print(\"\\n Insufficient balance  \")\n",
    "    def display(self):\n",
    "        print(\"\\n Net Available Balance=\",self.balance)\n",
    "s = Bank_Account()\n",
    "s.deposit()\n",
    "s.withdraw()\n",
    "s.display()"
   ]
  },
  {
   "cell_type": "code",
   "execution_count": 16,
   "id": "b8084504-ae3e-4099-b676-bf3f944ae450",
   "metadata": {},
   "outputs": [
    {
     "name": "stdout",
     "output_type": "stream",
     "text": [
      "Karthik\n"
     ]
    }
   ],
   "source": [
    "#33How can you access private attributes in Python? Provide an example demonstrating the use of name mangling.\n",
    "\n",
    "class Student: \n",
    "    def __init__(self, name): \n",
    "        self.__name = name \n",
    "  \n",
    "    def displayName(self): \n",
    "        print(self.__name) \n",
    "  \n",
    "s1 = Student(\"Karthik\") \n",
    "s1.displayName()"
   ]
  },
  {
   "cell_type": "code",
   "execution_count": 1,
   "id": "d5c9b0fb-b65d-4dc6-b537-8e8b8637410d",
   "metadata": {},
   "outputs": [
    {
     "name": "stdout",
     "output_type": "stream",
     "text": [
      "113.09724\n",
      "35\n"
     ]
    }
   ],
   "source": [
    "#34What is abstraction in Python, and how does it relate to object-oriented programming?\n",
    "\n",
    "from abc import ABC, abstractmethod\n",
    "\n",
    "class Shape(ABC):\n",
    "    @abstractmethod\n",
    "    def area(self):\n",
    "        pass\n",
    "\n",
    "class Circle(Shape):\n",
    "    def __init__(self, radius):\n",
    "        self.radius = radius\n",
    "\n",
    "    def area(self):\n",
    "        return 3.14159 * self.radius ** 2\n",
    "\n",
    "class Rectangle(Shape):\n",
    "    def __init__(self, length, width):\n",
    "        self.length = length\n",
    "        self.width = width\n",
    "\n",
    "    def area(self):\n",
    "        return self.length * self.width\n",
    "circle = Circle(6)\n",
    "rectangle = Rectangle(5,7)\n",
    "print(circle.area()) \n",
    "print(rectangle.area())"
   ]
  },
  {
   "cell_type": "code",
   "execution_count": 2,
   "id": "f2ffd7ab-7f93-4b83-9178-f32bc6b89e37",
   "metadata": {},
   "outputs": [
    {
     "name": "stdout",
     "output_type": "stream",
     "text": [
      "I have 3 sides\n",
      "I have 4 sides\n",
      "I have 5 sides\n",
      "I have 6 sides\n"
     ]
    }
   ],
   "source": [
    "#35Create a Python class called `Shape` with an abstract method `calculate_area()`. Then, create child classes (e.g., `Circle`, `Rectangle`) that implement the `calculate_area()` method. Provide an example of using these classes.\n",
    "\n",
    "\n",
    "from abc import ABC, abstractmethod\n",
    " \n",
    " \n",
    "class Polygon(ABC):\n",
    " \n",
    "    @abstractmethod\n",
    "    def noofsides(self):\n",
    "        pass\n",
    " \n",
    " \n",
    "class Triangle(Polygon):\n",
    " \n",
    "    # overriding abstract method\n",
    "    def noofsides(self):\n",
    "        print(\"I have 3 sides\")\n",
    " \n",
    " \n",
    "class Pentagon(Polygon):\n",
    " \n",
    "    # overriding abstract method\n",
    "    def noofsides(self):\n",
    "        print(\"I have 5 sides\")\n",
    " \n",
    " \n",
    "class Hexagon(Polygon):\n",
    " \n",
    "    # overriding abstract method\n",
    "    def noofsides(self):\n",
    "        print(\"I have 6 sides\")\n",
    " \n",
    " \n",
    "class Quadrilateral(Polygon):\n",
    " \n",
    "    # overriding abstract method\n",
    "    def noofsides(self):\n",
    "        print(\"I have 4 sides\")\n",
    "R = Triangle()\n",
    "R.noofsides()\n",
    " \n",
    "K = Quadrilateral()\n",
    "K.noofsides()\n",
    " \n",
    "R = Pentagon()\n",
    "R.noofsides()\n",
    " \n",
    "K = Hexagon()\n",
    "K.noofsides()"
   ]
  },
  {
   "cell_type": "code",
   "execution_count": 4,
   "id": "6b5111d8-276d-49c8-a847-780eb43ab248",
   "metadata": {},
   "outputs": [
    {
     "name": "stdout",
     "output_type": "stream",
     "text": [
      "I can walk and run\n",
      "I can crawl\n",
      "I can bark\n",
      "I can roar\n"
     ]
    }
   ],
   "source": [
    "#36How do abstract classes differ from regular classes in Python? Discuss their use cases.\n",
    "\n",
    "\n",
    "from abc import ABC, abstractmethod \n",
    "class Animal(ABC): \n",
    "  \n",
    "    def move(self): \n",
    "        pass\n",
    "  \n",
    "class Human(Animal): \n",
    "  \n",
    "    def move(self): \n",
    "        print(\"I can walk and run\") \n",
    "  \n",
    "class Snake(Animal): \n",
    "  \n",
    "    def move(self): \n",
    "        print(\"I can crawl\") \n",
    "  \n",
    "class Dog(Animal): \n",
    "  \n",
    "    def move(self): \n",
    "        print(\"I can bark\") \n",
    "  \n",
    "class Lion(Animal): \n",
    "  \n",
    "    def move(self): \n",
    "        print(\"I can roar\") \n",
    "          \n",
    "# Driver code \n",
    "R = Human() \n",
    "R.move() \n",
    "  \n",
    "K = Snake() \n",
    "K.move() \n",
    "  \n",
    "R = Dog() \n",
    "R.move() \n",
    "  \n",
    "K = Lion() \n",
    "K.move() "
   ]
  },
  {
   "cell_type": "code",
   "execution_count": 5,
   "id": "f0c6d451-f0b5-4a50-9950-1658eb028410",
   "metadata": {},
   "outputs": [
    {
     "name": "stdout",
     "output_type": "stream",
     "text": [
      "50.26544\n",
      "35\n"
     ]
    }
   ],
   "source": [
    "#37Discuss the concept of interface classes in Python and their role in achieving abstraction.\n",
    "\n",
    "from abc import ABC, abstractmethod\n",
    "class Shape(ABC):\n",
    "    @abstractmethod\n",
    "    def area(self):\n",
    "        pass\n",
    "class Circle(Shape):\n",
    "    def __init__(self, radius):\n",
    "        self.radius = radius\n",
    "    def area(self):\n",
    "        return 3.14159 * self.radius ** 2\n",
    "class Rectangle(Shape):\n",
    "    def __init__(self, width, length):\n",
    "        self.width = width\n",
    "        self.length = length\n",
    "    def area(self):\n",
    "        return self.width * self.length\n",
    "circle = Circle(4)\n",
    "rectangle = Rectangle(5, 7)\n",
    "\n",
    "print(circle.area())  \n",
    "print(rectangle.area())"
   ]
  },
  {
   "cell_type": "code",
   "execution_count": 6,
   "id": "2b0d47fa-9f6a-4156-93dd-3bfa165b90a9",
   "metadata": {},
   "outputs": [
    {
     "name": "stdout",
     "output_type": "stream",
     "text": [
      "Child Class object created...\n",
      "Parent Class Method called...\n",
      "Child Class Method called...\n"
     ]
    }
   ],
   "source": [
    "#38. Explain the concept of composition in Python and how it is used to build complex objects from simpler ones.\n",
    "\n",
    "class Parent: \n",
    "  \n",
    "    # parent class method \n",
    "    def m1(self): \n",
    "        print('Parent Class Method called...') \n",
    "  \n",
    "# child class inheriting parent class \n",
    "class Child(Parent): \n",
    "  \n",
    "    # child class constructor \n",
    "    def __init__(self): \n",
    "        print('Child Class object created...') \n",
    "  \n",
    "    # child class method \n",
    "    def m2(self): \n",
    "        print('Child Class Method called...') \n",
    "  \n",
    "  \n",
    "# creating object of child class \n",
    "obj = Child() \n",
    "  \n",
    "# calling parent class m1() method \n",
    "obj.m1() \n",
    "  \n",
    "# calling child class m2() method \n",
    "obj.m2() "
   ]
  },
  {
   "cell_type": "code",
   "execution_count": 7,
   "id": "e77512de-de2a-4897-b251-0a97e576ec82",
   "metadata": {},
   "outputs": [
    {
     "name": "stdout",
     "output_type": "stream",
     "text": [
      "Component class object created...\n",
      "Composite class object also created...\n",
      "Composite class m2() method executed...\n",
      "Component class m1() method executed...\n"
     ]
    }
   ],
   "source": [
    "#39Describe the difference between composition and inheritance in object-oriented programming.\n",
    "\n",
    "class Component: \n",
    "  \n",
    "   # composite class constructor \n",
    "    def __init__(self): \n",
    "        print('Component class object created...') \n",
    "  \n",
    "    # composite class instance method \n",
    "    def m1(self): \n",
    "        print('Component class m1() method executed...') \n",
    "  \n",
    "  \n",
    "class Composite: \n",
    "  \n",
    "    # composite class constructor \n",
    "    def __init__(self): \n",
    "  \n",
    "        # creating object of component class \n",
    "        self.obj1 = Component() \n",
    "          \n",
    "        print('Composite class object also created...') \n",
    "  \n",
    "     # composite class instance method \n",
    "    def m2(self): \n",
    "        \n",
    "        print('Composite class m2() method executed...') \n",
    "  \n",
    "        # calling m1() method of component class \n",
    "        self.obj1.m1() \n",
    "  \n",
    "  \n",
    "# creating object of composite class \n",
    "obj2 = Composite() \n",
    "  \n",
    "# calling m2() method of composite class \n",
    "obj2.m2() "
   ]
  },
  {
   "cell_type": "code",
   "execution_count": null,
   "id": "64868276-8b71-42fc-9020-0ff5cb6592ac",
   "metadata": {},
   "outputs": [],
   "source": []
  }
 ],
 "metadata": {
  "kernelspec": {
   "display_name": "Python 3 (ipykernel)",
   "language": "python",
   "name": "python3"
  },
  "language_info": {
   "codemirror_mode": {
    "name": "ipython",
    "version": 3
   },
   "file_extension": ".py",
   "mimetype": "text/x-python",
   "name": "python",
   "nbconvert_exporter": "python",
   "pygments_lexer": "ipython3",
   "version": "3.10.8"
  }
 },
 "nbformat": 4,
 "nbformat_minor": 5
}
